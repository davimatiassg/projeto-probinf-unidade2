{
  "nbformat": 4,
  "nbformat_minor": 0,
  "metadata": {
    "colab": {
      "provenance": []
    },
    "kernelspec": {
      "name": "python3",
      "display_name": "Python 3"
    },
    "language_info": {
      "name": "python"
    }
  },
  "cells": [
    {
      "cell_type": "markdown",
      "metadata": {
        "id": "X8nwwZ_o2_ie"
      },
      "source": [
        "# **Atividade de Probabilidade e Inferência - Students Performance**"
      ]
    },
    {
      "cell_type": "markdown",
      "metadata": {
        "id": "Wa2Nnpca8KOl"
      },
      "source": [
        "* Executar os comandos abaixo e tentar compreender características dos alunos que estão na base de dados **StudentsPerformance.csv**, disponível para *download* no SIGAA.\n",
        "* Ao final deste Colab, você terá cinco perguntas relacionadas a esta análise para responder."
      ]
    },
    {
      "cell_type": "code",
      "metadata": {
        "id": "jItXuub42-n0"
      },
      "source": [
        "import pandas as pd\n",
        "import numpy as np \n",
        "import matplotlib.pyplot as plt\n",
        "import seaborn as sns\n",
        "import warnings\n",
        "warnings.filterwarnings('ignore')\n",
        "%matplotlib inline\n",
        "plt.style.use('ggplot')"
      ],
      "execution_count": null,
      "outputs": []
    },
    {
      "cell_type": "markdown",
      "metadata": {
        "id": "lCHaHlXV3Oz7"
      },
      "source": [
        "Para carregar/upload a base de dados para o Colab, você deve clicar no icone com formato de pasta (files) no menu lateral esquerdo e seguida na opção upload. Após isto, navegue até a base de dados descompactada e escolha o arquivo **StudentsPerformance.csv** que você deve ter salvo na sua máquina."
      ]
    },
    {
      "cell_type": "code",
      "metadata": {
        "id": "vAg7gCrL3PCy"
      },
      "source": [
        "df=pd.read_csv('StudentsPerformance.csv', encoding= 'unicode_escape')"
      ],
      "execution_count": null,
      "outputs": []
    },
    {
      "cell_type": "code",
      "metadata": {
        "id": "41km5axx5I29"
      },
      "source": [
        "df['Total score']=df['math score']+df['reading score']+df['writing score']"
      ],
      "execution_count": null,
      "outputs": []
    },
    {
      "cell_type": "code",
      "metadata": {
        "id": "Z4M0yFQw5L3F"
      },
      "source": [
        "df.head(8).T"
      ],
      "execution_count": null,
      "outputs": []
    },
    {
      "cell_type": "code",
      "metadata": {
        "id": "iUU7klru5Twj"
      },
      "source": [
        "df.info()"
      ],
      "execution_count": null,
      "outputs": []
    },
    {
      "cell_type": "code",
      "metadata": {
        "id": "PoMQqkAK5XTA"
      },
      "source": [
        "# Converting score from int --> float\n",
        "df['math score']=pd.to_numeric(df['math score'],downcast='float')"
      ],
      "execution_count": null,
      "outputs": []
    },
    {
      "cell_type": "code",
      "metadata": {
        "id": "kr8pQ4l85a0p"
      },
      "source": [
        "# Printing again \n",
        "print(\"A nota média em matemática é   : {}\".format(np.mean(df['math score'])))\n",
        "print(\"A nota média em leitura é  : {}\".format(np.mean(df['reading score'])))\n",
        "print(\"A nota média em redação é   : {}\".format(np.mean(df['writing score'])))\n",
        "print(\"A nota média total é     : {}\".format(np.mean(df['Total score'])/3))"
      ],
      "execution_count": null,
      "outputs": []
    },
    {
      "cell_type": "code",
      "metadata": {
        "id": "tKcgMY555kcF"
      },
      "source": [
        "plt.rcParams['axes.facecolor'] = \"#b3ffff\"\n",
        "plt.rcParams['figure.facecolor'] =\"#b3ffff\"\n",
        "plt.figure(figsize=(18,8))\n",
        "plt.subplot(1, 4, 1)\n",
        "plt.title('NOTAS EM MATEMÁTICA')\n",
        "sns.violinplot(y='math score',data=df,color='red',linewidth=3)\n",
        "plt.subplot(1, 4, 2)\n",
        "plt.title('NOTAS EM LEITURA')\n",
        "sns.violinplot(y='reading score',data=df,color='green',linewidth=3)\n",
        "plt.subplot(1, 4, 3)\n",
        "plt.title('NOTAS EM REDAÇÃO')\n",
        "sns.violinplot(y='writing score',data=df,color='blue',linewidth=3)\n",
        "plt.show()"
      ],
      "execution_count": null,
      "outputs": []
    },
    {
      "cell_type": "code",
      "metadata": {
        "id": "CaXklca35sNq"
      },
      "source": [
        "plt.rcParams['figure.facecolor'] = \"#e6ecff\"\n",
        "plt.rcParams['axes.facecolor'] = \"#e6ecff\"\n",
        "plt.figure(figsize=(14,8))\n",
        "plt.subplot(1, 3, 1)\n",
        "sns.barplot(x='test preparation course',y='math score',data=df,hue='gender',palette='seismic',**{'hatch':'*','alpha':0.6,'linewidth':2})\n",
        "plt.title('NOTAS EM MATEMÁTICA')\n",
        "plt.subplot(1, 3, 2)\n",
        "sns.barplot(x='test preparation course',y='reading score',data=df,hue='gender',palette='seismic',**{'hatch':'.','alpha':0.8,'linewidth':2})\n",
        "plt.title('NOTAS EM LEITURA')\n",
        "plt.subplot(1, 3, 3)\n",
        "sns.barplot(x='test preparation course',y='writing score',data=df,hue='gender',palette='seismic',**{'hatch':'x','linewidth':2})\n",
        "plt.title('NOTAS EM REDAÇÃO')\n",
        "plt.show()"
      ],
      "execution_count": null,
      "outputs": []
    },
    {
      "cell_type": "code",
      "metadata": {
        "id": "1FQChXUO6cKi"
      },
      "source": [
        "plt.rcParams['axes.facecolor'] = \"#ffe5e5\"\n",
        "plt.rcParams['figure.facecolor'] = \"#ffe5e5\"\n",
        "sns.pairplot(data=df,hue='gender',plot_kws={'alpha':0.3},palette='hot_r')"
      ],
      "execution_count": null,
      "outputs": []
    },
    {
      "cell_type": "code",
      "metadata": {
        "id": "aBvlLo0N6hwu"
      },
      "source": [
        "corr = df.corr()\n",
        "mask = np.zeros_like(corr)\n",
        "mask[np.triu_indices_from(mask)] = True\n",
        "with sns.axes_style(\"white\"):\n",
        "    f, ax = plt.subplots(figsize=(8, 8))\n",
        "    ax = sns.heatmap(corr,mask=mask,square=True,linewidths=.8,cmap=\"autumn\",annot=True)"
      ],
      "execution_count": null,
      "outputs": []
    },
    {
      "cell_type": "code",
      "metadata": {
        "id": "8wmiFHwp6oNJ"
      },
      "source": [
        "print(\"Unique Lunch types :\",df['lunch'].unique())"
      ],
      "execution_count": null,
      "outputs": []
    },
    {
      "cell_type": "code",
      "metadata": {
        "id": "HAvpVUMs6pi4"
      },
      "source": [
        "plt.rcParams['axes.facecolor'] = \"#ccffda\"\n",
        "plt.rcParams['figure.facecolor'] = \"#ccffda\"\n",
        "\n",
        "plt.figure(figsize=(14,8))\n",
        "plt.subplot(1, 3, 1)\n",
        "sns.barplot(x='test preparation course',y='math score',data=df,hue='lunch',palette='viridis',edgecolor='black',**{'hatch':'/','linewidth':2})\n",
        "plt.title('NOTAS EM MATEMATICA')\n",
        "plt.subplot(1, 3, 2)\n",
        "sns.barplot(x='test preparation course',y='reading score',data=df,hue='lunch',palette='viridis',edgecolor='black',**{'hatch':\"|\",'linewidth':2,'linestyle':':'})\n",
        "plt.title('NOTAS EM LEITURA')\n",
        "plt.subplot(1, 3, 3)\n",
        "sns.barplot(x='test preparation course',y='writing score',data=df,hue='lunch',palette='viridis',edgecolor='black',**{'hatch':'-','linewidth':2,'linestyle':'--'})\n",
        "plt.title('NOTAS EM REDAÇÃO')\n",
        "plt.show()\n"
      ],
      "execution_count": null,
      "outputs": []
    },
    {
      "cell_type": "code",
      "metadata": {
        "id": "qCTf22p-6uaL"
      },
      "source": [
        "df[(df['math score'] > 90) & (df['reading score'] > 90) & (df['writing score']>90)]\\\n",
        ".sort_values(by=['Total score'],ascending=False)"
      ],
      "execution_count": null,
      "outputs": []
    },
    {
      "cell_type": "code",
      "metadata": {
        "id": "M8vVFcvI6179"
      },
      "source": [
        "plt.rcParams['figure.facecolor'] = \"#ffffe6\"\n",
        "\n",
        "plt.rcParams['axes.facecolor'] = \"#ffcccc\"\n",
        "plt.figure(figsize=(14,8))\n",
        "plt.subplot(1, 3, 1)\n",
        "plt.title('NOTAS EM MATEMATICA')\n",
        "sns.barplot(x='race/ethnicity',y='math score',data=df,hue='gender',palette='Reds_r',edgecolor='#ff0000',**{'alpha':0.8,'linewidth':2})\n",
        "\n",
        "plt.rcParams['axes.facecolor'] = \"#ccffcc\"\n",
        "plt.subplot(1, 3, 2)\n",
        "plt.title('NOTAS EM LEITURA')\n",
        "sns.barplot(x='race/ethnicity',y='reading score',data=df,hue='gender',palette='Greens_r',edgecolor='#00ff00',**{'alpha':0.8,'linewidth':2})\n",
        "\n",
        "plt.rcParams['axes.facecolor'] = \"#e6e6ff\"\n",
        "plt.subplot(1, 3, 3)\n",
        "plt.title('NOTAS EM REDAÇÃO')\n",
        "sns.barplot(x='race/ethnicity',y='writing score',data=df,hue='gender',palette='Blues_r',edgecolor='#0000ff',**{'alpha':0.8,'linewidth':2})\n",
        "plt.show()"
      ],
      "execution_count": null,
      "outputs": []
    },
    {
      "cell_type": "code",
      "metadata": {
        "id": "xg7bLh3Y7RAz"
      },
      "source": [
        "plt.rcParams['figure.facecolor'] = \"#ffffe6\"\n",
        "plt.rcParams['axes.facecolor'] = \"#ffffe6\"\n",
        "plt.figure(figsize=(12,6))\n",
        "plt.title('NÍVEL DE ESCOLARIDADE DOS PAIS')\n",
        "sns.countplot(x='parental level of education',data=df,palette='inferno')\n",
        "plt.tight_layout()"
      ],
      "execution_count": null,
      "outputs": []
    },
    {
      "cell_type": "code",
      "metadata": {
        "id": "tkWQFrDH7U0q"
      },
      "source": [
        "plt.rcParams['figure.facecolor'] = \"#ffe6f9\"\n",
        "plt.rcParams['axes.facecolor'] = \"#ffe6f9\"\n",
        "plt.figure(figsize=(12,6))\n",
        "plt.title('NÍVEL DE ESCOLARIDADE DOS PAIS vs NOTA TOTAL DAS CRIANÇAS')\n",
        "sns.barplot(x=df['parental level of education'],y='Total score',data=df,palette='magma')\n",
        "plt.tight_layout()"
      ],
      "execution_count": null,
      "outputs": []
    },
    {
      "cell_type": "markdown",
      "metadata": {
        "id": "RYN1jjRj98RW"
      },
      "source": [
        "### **Responda as seguintes perguntas a respeito da análise destes dados:**\n",
        "\n",
        "**1.**   Com relação a análise dos dados em *StudentsPerformance.csv*, avalie as seguintes sentenças:\n",
        "\n",
        "**i.** Identificam-se na base *StudentsPerformance.csv* um total de 9 (nove) observações (ou entries) e 1000 (mil) variáveis medidas (ou columns);\n",
        "\n",
        "**ii.** As variáveis de interesse são do tipo quantitativa contínua, uma vez que é possível considerar todas as variáveis de nota como atributo de interesse;\n",
        "\n",
        "**iii.** O principal objetivo deste estudo é analisar como as pontuações são influenciadas com base em diferentes variáveis ​​que incluem gênero, raça, curso de preparação para o teste, etc.\n",
        "\n",
        "Estão corretas as seguintes sentenças:\n",
        "\n",
        "  * a.)   i e ii.\n",
        "  * b.)   i e iii.\n",
        "  * c.)   ii e iii.\n",
        "  * d.)   i, ii e iii.\n",
        "\n",
        "**2.**   Com relação a análise dos dados em *StudentsPerformance.csv*, avalie as seguintes sentenças:\n",
        "\n",
        "**i.** O desempenho dos alunos na seção de matemática é inferior quando comparado à leitura e redação;\n",
        "\n",
        "**ii.** O melhor desempenho total está na seção de leitura;\n",
        "\n",
        "**iii.**  Em geral, as notas são melhores para os meninos em matemática e as meninas são melhores em leitura e redação.\n",
        "\n",
        "Estão corretas as seguintes sentenças:\n",
        "\n",
        "  * a.)   i e ii.\n",
        "  * b.)   i e iii.\n",
        "  * c.)   ii e iii.\n",
        "  * d.)   i, ii e iii.\n",
        "\n",
        "**3.**   Com relação a análise dos dados em *StudentsPerformance.csv*, avalie as seguintes sentenças:\n",
        "\n",
        "**i.** É visível que a maioria dos alunos pontua entre 60-80 em matemática, enquanto em leitura e redação a maioria deles pontua entre 50-80, ou seja, a nota de matemática varia mais;\n",
        "\n",
        "**ii.** As notas de matemática dos meninos são melhores, independentemente de terem concluído o curso ou não;\n",
        "\n",
        "**iii.** Em todas as matérias, se o curso for concluído, podemos alcançar pontuações mais altas.\n",
        "\n",
        "Estão corretas as seguintes sentenças:\n",
        "\n",
        "  * a.)   i e ii.\n",
        "  * b.)   i e iii.\n",
        "  * c.)   ii e iii.\n",
        "  * d.)   i, ii e iii.\n",
        "\n",
        "**4.**  Com relação a análise dos dados em *StudentsPerformance.csv*, avalie as seguintes sentenças:\n",
        "\n",
        "**i.**  É claro ver que, em todas as matérias, todas as pontuações aumentam linearmente umas com as outras;\n",
        "\n",
        "**ii.** Existe correlação alta entre a nota total e as notas parciais nas matérias;\n",
        "\n",
        "**iii.** A nota da redação e a nota da leitura também são variáveis altamente correlacionadas, o que nos diz que se um aluno lê bem, ele também escreve bem.\n",
        "\n",
        "Estão corretas as seguintes sentenças:\n",
        "\n",
        "  * a.)   i e ii.\n",
        "  * b.)   i e iii.\n",
        "  * c.)   ii e iii.\n",
        "  * d.)   i, ii e iii.\n",
        "\n",
        "\n",
        "**5.**  Com relação a análise dos dados em *StudentsPerformance.csv*, avalie as seguintes sentenças:\n",
        "\n",
        "**i.** O fato de a nota em matemática não ter uma correlação muito alta com as outras disciplinas implica que se um aluno tem um bom desempenho em matemática não necessariamente ele terá um bom desempenho em leitura e redação ou vice-versa;\n",
        "\n",
        "**ii.** Quando se observa isoladamente a escolaridade dos pais, percebe-se que a maioria destes frequentou alguma faculdade ou tinha diploma;\n",
        "\n",
        "**iii.** Com base na análise dos dados, fica claro que se a educação dos pais for melhor, seus filhos tendem a se sair pior em todas as áreas (matemática, leitura, redação) .\n",
        "\n",
        "Estão corretas as seguintes sentenças:\n",
        "\n",
        "  * a.)   i e ii.\n",
        "  * b.)   i e iii.\n",
        "  * c.)   ii e iii.\n",
        "  * d.)   i, ii e iii."
      ]
    }
  ]
}