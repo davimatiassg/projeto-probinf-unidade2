{
  "nbformat": 4,
  "nbformat_minor": 0,
  "metadata": {
    "colab": {
      "provenance": [],
      "collapsed_sections": [
        "QvB14c_kMdwC",
        "tRyRAlnIFK_S",
        "jv9ttr-XJHXu"
      ]
    },
    "kernelspec": {
      "name": "python3",
      "display_name": "Python 3"
    },
    "language_info": {
      "name": "python"
    }
  },
  "cells": [
    {
      "cell_type": "markdown",
      "metadata": {
        "id": "X8nwwZ_o2_ie"
      },
      "source": [
        "# **Projeto de Probabilidade e inferência**: Análise de dados de performance dos times no cenário competitivo de Valorant\n",
        "\n",
        "Autores:\n",
        "\n",
        "$\\to$ Caio Vinícius de Azevedo   - 20220040815;\n",
        "\n",
        "$\\to$ Davi Matias Soares Genuino - 20220042186;\n",
        "\n",
        "$\\to$ Hannah Beatryz Lima Santos - 20220034925;"
      ]
    },
    {
      "cell_type": "markdown",
      "source": [
        "# **1 - Descrição do Projeto:**"
      ],
      "metadata": {
        "id": "WDpnQkv07Nl-"
      }
    },
    {
      "cell_type": "markdown",
      "source": [
        "O presente projeto consiste na análise do desempenho de alguns times profissionais no jogo Valorant, desenvolvido pela Riot Games.\n",
        "Valorant é um jogo de tiro, com visão em primeira pessoa, que envolve personagens com habilidades especiais. Para via de explicação dos dados aqui descritos, apresentaremos uma breve descrição das mecânicas de vitória e derrota do jogo.\n",
        "\n",
        "De modo geral, os jogos competitivios envolvem diversos mapas. A partida em um desses mapas é dividida em rounds, onde os dois times são postos nas posições de ataque e defesa. A cada 12 rounds, essas posições são invertidas para que o time atacante passe a ser o defensor e vice-versa. Vence a partida (e o mapa) o time que atingir 13 rounds vitoriosos primeiro.\n",
        "\n",
        "No primeiro round da partida e no primeiro round após a inversão, nenhum dos times tem acesso a armas potentes ou recursos em abundância. Hipoteticamente, o resultado desse round, no entanto, poderá garantir essas ferramentas para o time que vencer. Por essa razão, os chamados *Rounds de pistola* ou simplesmente *pistol*'s possuem destaque dentre os outros. Sempre haverão dois rounds pistol por partida, independentemente de qual equipe começou defendendo ou atacando.\n",
        "\n",
        "Os arquivos com os dados estão disponíveis [no site kaggle](https://www.kaggle.com/datasets/anud3ep/valorant), e as informações neles dispostas foram extraídas do site [The Spike](https://www.thespike.gg) em 14 de abril de 2022, relativas aos três meses anteriores à referida data.\n"
      ],
      "metadata": {
        "id": "SYMY39-qTwe4"
      }
    },
    {
      "cell_type": "markdown",
      "source": [
        "## Hipóteses\n",
        "\n",
        "Antes da análise, formulamos as seguintes hipóteses sobre os dados:\n",
        "\n",
        "1. Times que jogaram em mais mapas acabarão por ter uma taxa de vitória maior em todos os aspectos.\n",
        "  - A hipótese se fundamenta no fato de que, em cenários competitivos, times que não jogarem em muitos mapas provavelmente foram eliminados mais cedo que os outros.\n",
        "\n",
        "2. Times que tem alta taxa de vitória enquanto estão na função de atacantes possuirão taxa de vitória significativamente menor quando estiverem defendendo e vice-versa.\n",
        "  - Hipótese baseada na ideia de que times podem possuir estratégias com qualidades discrepantes para cada situação. Isso pode estar relacionado com características individuais dos seus componentes, ou do modo segundo o qual realizam seus treinos\n",
        "3. Taxas de vitórias altas em rounds de pistola aumentam a chance de vencer o mapa.\n",
        "  - Hipótese baseada nas características dos rounds de pistola em relação aos demais.\n",
        "\n",
        "Com essas hipóteses em mente, partiremos para a análise dos dados."
      ],
      "metadata": {
        "id": "JznPuJaBolFO"
      }
    },
    {
      "cell_type": "markdown",
      "source": [
        "# **2 - Pré-processamento e Análise preliminar:**\n",
        "\n"
      ],
      "metadata": {
        "id": "-Cs1YQND6jUW"
      }
    },
    {
      "cell_type": "markdown",
      "source": [
        "Utilizaremos a linguagem `Python`, aliada às bibliotecas `pandas`, `matplotlib`, `seaborn`, `statsmodels` e `numpy` como forma principal de manipulação dos dados. O comando abaixo serve para realizar a configuração inicial do projeto, em conjunto com a importação das bibliotecas e da nossa base de dados."
      ],
      "metadata": {
        "id": "Aounbg-mT3OX"
      }
    },
    {
      "cell_type": "code",
      "metadata": {
        "id": "jItXuub42-n0"
      },
      "source": [
        "import pandas as pd\n",
        "import numpy as np\n",
        "import matplotlib.pyplot as plt\n",
        "import seaborn as sns\n",
        "import statsmodels.api as sm\n",
        "import warnings\n",
        "warnings.filterwarnings('ignore')\n",
        "%matplotlib inline\n",
        "sns.set_style(\"dark\")\n",
        "\n",
        "\n",
        "df=pd.read_csv('sample_data/teams.csv', encoding= 'unicode_escape')"
      ],
      "execution_count": 207,
      "outputs": []
    },
    {
      "cell_type": "markdown",
      "metadata": {
        "id": "lCHaHlXV3Oz7"
      },
      "source": [
        "O bloco de códigos abaixo realiza a conversão das entrada da base para valores do tipo `float`. Em seguida, são exibidas 10 entradas da base de dados, representando o desempenho de 10 times até a data de coleta dos dados. Para cada tipo de round são calculadas também as taxas de vitória (ou *winrate*s, como também as chamaremos), tomadas com base no cálculo: $$winrate = \\frac{vitorias}{round}$$"
      ]
    },
    {
      "cell_type": "code",
      "metadata": {
        "id": "vAg7gCrL3PCy"
      },
      "source": [
        "# Converting number of matches played/won from int --> float\n",
        "df['maps_won']=pd.to_numeric(df['maps_won'],downcast='float')\n",
        "df['atk_won']=pd.to_numeric(df['atk_won'],downcast='float')\n",
        "df['def_won']=pd.to_numeric(df['def_won'],downcast='float')\n",
        "df['pistol_won']=pd.to_numeric(df['pistol_won'],downcast='float')\n",
        "\n",
        "df['maps_played']=pd.to_numeric(df['maps_played'],downcast='float')\n",
        "df['atk_played']=pd.to_numeric(df['atk_played'],downcast='float')\n",
        "df['def_played']=pd.to_numeric(df['def_played'],downcast='float')\n",
        "df['pistol_played']=pd.to_numeric(df['pistol_played'],downcast='float')\n",
        "\n",
        "# Converting winrate from string (percentage) --> float\n",
        "df['maps_won%']=pd.to_numeric(df['maps_won']/df['maps_played'],downcast='float')\n",
        "df['atk_won%']=pd.to_numeric(df['atk_won']/df['atk_played'],downcast='float')\n",
        "df['def_won%']=pd.to_numeric(df['def_won']/df['def_played'],downcast='float')\n",
        "df['pistol_won%']=pd.to_numeric(df['pistol_won']/df['pistol_played'],downcast='float')\n",
        "df.head(22).T"
      ],
      "execution_count": null,
      "outputs": []
    },
    {
      "cell_type": "markdown",
      "source": [
        "A seguir, podemos verificar mais algumas informações sobre nossos dados. Ao total, temos à nossa disposição um total de 309 entradas, cada uma com o desempenho de um time profissional de Valorant no ano de 2022 até a data de coleta."
      ],
      "metadata": {
        "id": "pLcxJKIp8b9P"
      }
    },
    {
      "cell_type": "code",
      "metadata": {
        "id": "PoMQqkAK5XTA"
      },
      "source": [
        "df.info()"
      ],
      "execution_count": null,
      "outputs": []
    },
    {
      "cell_type": "markdown",
      "source": [
        "Agora, possuimos todos os dados em sua configuração correta para a realização da análise. Começaremos pela verificação simples de algumas variáveis, como as Médias e Medianas, Desvios-Padrões e Variâncias das taxas de vitória (winrate) em cada tipo de round."
      ],
      "metadata": {
        "id": "LNwsm5JeGmRa"
      }
    },
    {
      "cell_type": "code",
      "metadata": {
        "id": "kr8pQ4l85a0p"
      },
      "source": [
        "# Getting the Means:\n",
        "print(\"A winrate média em rounds de pistola é \t:\t{:.3f}%\".format(100*np.mean(df['pistol_won%'])))\n",
        "print(\"A winrate média em rounds de ataque é \t:\t{:.3f}%\".format(100*np.mean(df['atk_won%'])))\n",
        "print(\"A winrate média em rounds de defesa é \t:\t{:.3f}%\".format(100*np.mean(df['def_won%'])))\n",
        "print(\"A winrate média em mapas é \t\t:\t{:.3f}%\".format(100*np.mean(df['maps_won%'])))"
      ],
      "execution_count": null,
      "outputs": []
    },
    {
      "cell_type": "code",
      "source": [
        "\n",
        "# Getting the Medians:\n",
        "print(\"A winrate mediana em rounds de pistola é   :  {:.3f}%\".format(100*np.median(df['pistol_won%'])))\n",
        "print(\"A winrate mediana em rounds de ataque é    :  {:.3f}%\".format(100*np.median(df['atk_won%'])))\n",
        "print(\"A winrate mediana em rounds de defesa é    :  {:.3f}%\".format(100*np.median(df['def_won%'])))\n",
        "print(\"A winrate mediana é                        :  {:.3f}%\".format(100*np.median(df['maps_won%'])))"
      ],
      "metadata": {
        "id": "Tkpn9E2YCQna"
      },
      "execution_count": null,
      "outputs": []
    },
    {
      "cell_type": "code",
      "source": [
        "# Getting the Standard Deviations:\n",
        "print(\"O desvio padrão da winrate em rounds de pistola é   :  {:.3f}%\".format(100*np.std(df['pistol_won%'])))\n",
        "print(\"O desvio padrão da winrate em rounds de ataque é    :  {:.3f}%\".format(100*np.std(df['atk_won%'])))\n",
        "print(\"O desvio padrão da winrate em rounds de defesa é    :  {:.3f}%\".format(100*np.std(df['def_won%'])))\n",
        "print(\"O desvio padrão da winrate é                        :  {:.3f}%\".format(100*np.std(df['maps_won%'])))"
      ],
      "metadata": {
        "id": "3L8sLf4IL0AM"
      },
      "execution_count": null,
      "outputs": []
    },
    {
      "cell_type": "code",
      "source": [
        "# Getting the Variances:\n",
        "print(\"A variância da winrate em rounds de pistola é   :  {:.3f}%\".format(100*np.var(df['pistol_won%'])))\n",
        "print(\"A variância da winrate em rounds de ataque é    :  {:.3f}%\".format(100*np.var(df['atk_won%'])))\n",
        "print(\"A variância da winrate em rounds de defesa é    :  {:.3f}%\".format(100*np.var(df['def_won%'])))\n",
        "print(\"A variância da winrate é                        :  {:.3f}%\".format(100*np.var(df['maps_won%'])))"
      ],
      "metadata": {
        "id": "35w_q_wuSOWc"
      },
      "execution_count": null,
      "outputs": []
    },
    {
      "cell_type": "markdown",
      "source": [
        "A princípio, é visível que as taxas indicam uma taxa de vitória ligeiramente maior em rounds de defesa do que de ataque. Notamos também que em todas as ocasiões, a média das winrates dos times profissionais está consideravelmente acima de 50%. Podemos ver como se dá a distribuição desses dados por meio de gráficos-violino"
      ],
      "metadata": {
        "id": "Hc5OLSP1S_xs"
      }
    },
    {
      "cell_type": "code",
      "source": [
        "plt.figure(figsize=(7,7))\n",
        "plt.tight_layout()\n",
        "\n",
        "p = plt.subplot(1, 2, 1)\n",
        "p.set_xlim(left=0, right=5)\n",
        "plt.title('Rounds de pistola jogados')\n",
        "sns.violinplot(data=df['pistol_played'],color='white')\n",
        "\n",
        "plt.subplot(1, 2, 2)\n",
        "plt.title('Rounds de Pistola vencidos')\n",
        "sns.violinplot(data=df['pistol_won'],color='red')\n",
        "\n",
        "plt.show()"
      ],
      "metadata": {
        "id": "gI3Uykb3JVsC"
      },
      "execution_count": null,
      "outputs": []
    },
    {
      "cell_type": "code",
      "source": [
        "plt.figure(figsize=(7,7))\n",
        "plt.tight_layout()\n",
        "\n",
        "plt.subplot(1, 2, 1)\n",
        "plt.title('Rounds de ataque jogados')\n",
        "sns.violinplot(data=df['atk_played'],color='white')\n",
        "\n",
        "plt.subplot(1, 2, 2)\n",
        "plt.title('Rounds de ataque vencidos')\n",
        "sns.violinplot(data=df['atk_won'],color='green')\n",
        "\n",
        "plt.show()"
      ],
      "metadata": {
        "id": "UUJNn-HnbJbI"
      },
      "execution_count": null,
      "outputs": []
    },
    {
      "cell_type": "code",
      "source": [
        "plt.figure(figsize=(7,7))\n",
        "plt.tight_layout()\n",
        "\n",
        "plt.subplot(1, 2, 1)\n",
        "plt.title('Rounds de defesa jogados')\n",
        "sns.violinplot(data=df['def_played'],color='white')\n",
        "\n",
        "plt.subplot(1, 2, 2)\n",
        "plt.title('Rounds de defesa vencidos')\n",
        "sns.violinplot(data=df['def_won'],color='blue')\n",
        "\n",
        "plt.show()"
      ],
      "metadata": {
        "id": "xAghdYtLbOLu"
      },
      "execution_count": null,
      "outputs": []
    },
    {
      "cell_type": "code",
      "source": [
        "plt.figure(figsize=(7,7))\n",
        "plt.tight_layout()\n",
        "\n",
        "plt.subplot(1, 2, 1)\n",
        "plt.title('Mapas jogados')\n",
        "sns.violinplot(data=df['maps_played'],color='white')\n",
        "\n",
        "plt.subplot(1, 2, 2)\n",
        "plt.title('Mapas vencidos')\n",
        "sns.violinplot(data=df['maps_won'],color='yellow')\n",
        "\n",
        "plt.show()"
      ],
      "metadata": {
        "id": "X-SzqUUSbRnp"
      },
      "execution_count": null,
      "outputs": []
    },
    {
      "cell_type": "markdown",
      "source": [
        "A seguir, veremos como se dá a dispersão do número de vitórias e da taxa de vitórias em relação ao número de rounds jogados, por tipo de round:"
      ],
      "metadata": {
        "id": "e2DmIlaVS6rH"
      }
    },
    {
      "cell_type": "markdown",
      "source": [
        "> Rounds de pistola:"
      ],
      "metadata": {
        "id": "qojTnGHzjV8C"
      }
    },
    {
      "cell_type": "code",
      "source": [
        "plt.figure(figsize=(14,7))\n",
        "plt.subplot(1, 2, 1)\n",
        "plt.title('Rounds de pistola: vencidos/jogados')\n",
        "sns.scatterplot(data=df, x='pistol_played', y='pistol_won',)\n",
        "plt.subplot(1, 2, 2)\n",
        "plt.title('Rounds de pistola: winrate/jogados')\n",
        "sns.scatterplot(data=df, x='pistol_played', y='pistol_won%')\n",
        "plt.show()"
      ],
      "metadata": {
        "id": "4yUBD8G3S54G"
      },
      "execution_count": null,
      "outputs": []
    },
    {
      "cell_type": "markdown",
      "source": [
        "> Rounds de ataque:"
      ],
      "metadata": {
        "id": "s7sch18ojXKI"
      }
    },
    {
      "cell_type": "code",
      "source": [
        "plt.figure(figsize=(14,7))\n",
        "plt.subplot(1, 2, 1)\n",
        "plt.title('Rounds de ataque: vencidos/jogados')\n",
        "sns.scatterplot(data=df, x='atk_played', y='atk_won',)\n",
        "plt.subplot(1, 2, 2)\n",
        "plt.title('Rounds de ataque: winrate/jogados')\n",
        "sns.scatterplot(data=df, x='atk_played', y='atk_won%')\n",
        "plt.show()"
      ],
      "metadata": {
        "id": "ZAECe5OTdZIZ"
      },
      "execution_count": null,
      "outputs": []
    },
    {
      "cell_type": "markdown",
      "source": [
        "> Rounds de defesa:"
      ],
      "metadata": {
        "id": "f7iGsGVFjchJ"
      }
    },
    {
      "cell_type": "code",
      "source": [
        "plt.figure(figsize=(14,7))\n",
        "plt.subplot(1, 2, 1)\n",
        "plt.title('Rounds de defesa: vencidos/jogados')\n",
        "sns.scatterplot(data=df, x='def_played', y='def_won',)\n",
        "plt.subplot(1, 2, 2)\n",
        "plt.title('Rounds de defesa: winrate/jogados')\n",
        "sns.scatterplot(data=df, x='def_played', y='def_won%')\n",
        "plt.show()"
      ],
      "metadata": {
        "id": "gfNQ8obRdp6_"
      },
      "execution_count": null,
      "outputs": []
    },
    {
      "cell_type": "markdown",
      "source": [
        "> Mapas:"
      ],
      "metadata": {
        "id": "1aPjmaw_jeNM"
      }
    },
    {
      "cell_type": "code",
      "source": [
        "plt.figure(figsize=(14,7))\n",
        "plt.subplot(1, 2, 1)\n",
        "plt.title('Mapas: vencidos/jogados')\n",
        "sns.scatterplot(data=df, x='maps_played', y='maps_won',)\n",
        "plt.subplot(1, 2, 2)\n",
        "plt.title('Mapas: winrate/jogados')\n",
        "sns.scatterplot(data=df, x='maps_played', y='maps_won%')\n",
        "plt.show()"
      ],
      "metadata": {
        "id": "99Rzz1a3du91"
      },
      "execution_count": null,
      "outputs": []
    },
    {
      "cell_type": "markdown",
      "source": [
        "Em seguida, observaremos como esses atributos se distribuem em relação aos países dos quais cada time se apresenta:\n",
        "\n"
      ],
      "metadata": {
        "id": "YrENzL-iiiIi"
      }
    },
    {
      "cell_type": "markdown",
      "source": [
        "> Rounds de pistola:"
      ],
      "metadata": {
        "id": "pukrMjndmJun"
      }
    },
    {
      "cell_type": "code",
      "source": [
        "plt.figure(figsize=(30,7))\n",
        "plt.subplot()\n",
        "plt.title('Rounds de Pistola jogados por país')\n",
        "sns.barplot(x='country',y='pistol_played',data=df,linewidth=5)\n",
        "plt.show()\n",
        "plt.figure(figsize=(30,7))\n",
        "plt.subplot()\n",
        "plt.title('Taxa de vitória em rounds de pistola por país')\n",
        "sns.barplot(x='country',y='pistol_won%',data=df,linewidth=5)\n",
        "plt.show()"
      ],
      "metadata": {
        "id": "60VkyWvrkC5C"
      },
      "execution_count": null,
      "outputs": []
    },
    {
      "cell_type": "markdown",
      "source": [
        "> Rounds de ataque:"
      ],
      "metadata": {
        "id": "2POVoH6dmOUK"
      }
    },
    {
      "cell_type": "code",
      "source": [
        "plt.figure(figsize=(30,7))\n",
        "plt.subplot()\n",
        "plt.title('Rounds de ataque jogados por país')\n",
        "sns.barplot(x='country',y='atk_played',data=df,linewidth=5)\n",
        "plt.show()\n",
        "plt.figure(figsize=(30,7))\n",
        "plt.subplot()\n",
        "plt.title('Taxa de vitória em rounds de ataque por país')\n",
        "sns.barplot(x='country',y='atk_won%',data=df,linewidth=5)\n",
        "plt.show()"
      ],
      "metadata": {
        "id": "7F-DkT05kKKq"
      },
      "execution_count": null,
      "outputs": []
    },
    {
      "cell_type": "markdown",
      "source": [
        "> Rounds de defesa:"
      ],
      "metadata": {
        "id": "kQOtp-nLmR5t"
      }
    },
    {
      "cell_type": "code",
      "source": [
        "plt.figure(figsize=(30,7))\n",
        "plt.subplot()\n",
        "plt.title('Rounds de defesa jogados por país')\n",
        "sns.barplot(x='country',y='def_played',data=df,linewidth=5)\n",
        "plt.show()\n",
        "plt.figure(figsize=(30,7))\n",
        "plt.subplot()\n",
        "plt.title('Taxa de defesa em rounds de ataque por país')\n",
        "sns.barplot(x='country',y='def_won%',data=df,linewidth=5)\n",
        "plt.show()"
      ],
      "metadata": {
        "id": "1ztUllzKkPEW"
      },
      "execution_count": null,
      "outputs": []
    },
    {
      "cell_type": "markdown",
      "source": [
        "> Mapas:"
      ],
      "metadata": {
        "id": "gP0BlnWImUbl"
      }
    },
    {
      "cell_type": "code",
      "metadata": {
        "id": "CaXklca35sNq"
      },
      "source": [
        "plt.figure(figsize=(30,7))\n",
        "plt.subplot()\n",
        "plt.title('Mapas jogados por país')\n",
        "sns.barplot(x='country',y='maps_played',data=df,linewidth=5)\n",
        "plt.show()\n",
        "plt.figure(figsize=(30,7))\n",
        "plt.subplot()\n",
        "plt.title('Taxa de vitória em mapas por país')\n",
        "sns.barplot(x='country',y='maps_won%',data=df,linewidth=5)\n",
        "plt.show()"
      ],
      "execution_count": null,
      "outputs": []
    },
    {
      "cell_type": "markdown",
      "source": [
        "Para finalizar a nossa descrição dos dados, apresentamos aqui uma tabela de correlação entre todas as variáveis, demonstrando sua taxa de dependência."
      ],
      "metadata": {
        "id": "Sz-y7PB8mX4S"
      }
    },
    {
      "cell_type": "code",
      "metadata": {
        "id": "aBvlLo0N6hwu"
      },
      "source": [
        "corr = df.corr()\n",
        "mask = np.zeros_like(corr)\n",
        "mask[np.triu_indices_from(mask)] = True\n",
        "with sns.axes_style(\"white\"):\n",
        "    f, ax = plt.subplots(figsize=(8, 8))\n",
        "    ax = sns.heatmap(corr,mask=mask,square=True,linewidths=.8,cmap=\"winter\",annot=True)"
      ],
      "execution_count": null,
      "outputs": []
    },
    {
      "cell_type": "markdown",
      "source": [
        "# **3 - Amostragem**"
      ],
      "metadata": {
        "id": "6BdmDSPlRsh9"
      }
    },
    {
      "cell_type": "markdown",
      "source": [
        "Como a nossa base de dados contém apenas 309 entradas, não necessitamos realizar um processo de amostragem para obter uma amostra que seja mais fácil de trabalhar. No entanto, faremos esse processo ainda assim, para fins de exercício.\n",
        "\n",
        "Utilizaremos um processo de amostragem probabilistico e estratificado por região. Escolheremos uma amostra com tamanho equivalente a 30% do nosso espaço amostral e realizaremos cálculos a respeito dele."
      ],
      "metadata": {
        "id": "cTzaOQ8N2IuY"
      }
    },
    {
      "cell_type": "code",
      "source": [
        "# Coletando os países disponíveis\n",
        "unique_countries = df['country'].unique()\n",
        "# Tamanho da amostra\n",
        "sample_size = int(len(df) * 0.3)\n",
        "## criando a amostra estratificada\n",
        "sts = pd.DataFrame()\n",
        "# Para cada país único\n",
        "for country in unique_countries:\n",
        "    estrato = df[df['country'] == country]            # Colete todos as linhas com aquele país\n",
        "    sample = df.sample(n=sample_size, replace=False)  # Faça uma amostra simples dessas linhas\n",
        "    sts = strat_sample.append(sample)        # Inclua na amostra estratificada"
      ],
      "metadata": {
        "id": "ZvlrTwSV2F4i"
      },
      "execution_count": 184,
      "outputs": []
    },
    {
      "cell_type": "markdown",
      "metadata": {
        "id": "RYN1jjRj98RW"
      },
      "source": [
        "A partir dessa amostra, podemos repetir os processos realizados na sessão 2, para encontrar estimativas das média, mediana, desvio padrão e variância de cada uma das taxas de vitória. O bloco de código abaixo realiza essas tarefas e expõe a comparação das estimativas com os valores reais obtidos na sessão 2."
      ]
    },
    {
      "cell_type": "code",
      "source": [
        "# Comparação\n",
        "print(\"\\nMédias\")\n",
        "print(\"\t\t\t   Base\t\t   Amostra\")\n",
        "print(\"Rounds de pistola\t: {:.3f}%\t: {:.3f}%\".format(100*np.mean(df['pistol_won%']), 100*np.mean(sts['pistol_won%'])))\n",
        "print(\"Rounds de ataque\t: {:.3f}%\t: {:.3f}%\".format(100*np.mean(df['atk_won%']), 100*np.mean(sts['atk_won%'])))\n",
        "print(\"Rounds de defesa\t: {:.3f}%\t: {:.3f}%\".format(100*np.mean(df['def_won%']), 100*np.mean(sts['def_won%'])))\n",
        "print(\"Mapas\t\t\t: {:.3f}%\t: {:.3f}%\".format(100*np.mean(df['maps_won%']), 100*np.mean(sts['maps_won%'])))\n",
        "\n",
        "print(\"\\nMedianas\")\n",
        "print(\"\t\t\tBase\t\t   Amostra\")\n",
        "print(\"Rounds de pistola\t: {:.3f}%\t: {:.3f}%\".format(100*np.median(df['pistol_won%']), 100*np.median(sts['pistol_won%'])))\n",
        "print(\"Rounds de ataque\t: {:.3f}%\t: {:.3f}%\".format(100*np.median(df['atk_won%']), 100*np.median(sts['atk_won%'])))\n",
        "print(\"Rounds de defesa\t: {:.3f}%\t: {:.3f}%\".format(100*np.median(df['def_won%']), 100*np.median(sts['def_won%'])))\n",
        "print(\"Mapas\t\t\t: {:.3f}%\t: {:.3f}%\".format(100*np.median(df['maps_won%']), 100*np.median(sts['maps_won%'])))\n",
        "\n",
        "print(\"\\nDesvios Padrões\")\n",
        "print(\"\t\t\tBase\t\t   Amostra\")\n",
        "print(\"Rounds de pistola\t: {:.3f}%\t: {:.3f}%\".format(100*np.std(df['pistol_won%']), 100*np.std(sts['pistol_won%'])))\n",
        "print(\"Rounds de ataque\t: {:.3f}%\t: {:.3f}%\".format(100*np.std(df['atk_won%']), 100*np.std(sts['atk_won%'])))\n",
        "print(\"Rounds de defesa\t: {:.3f}%\t: {:.3f}%\".format(100*np.std(df['def_won%']), 100*np.std(sts['def_won%'])))\n",
        "print(\"Mapas\t\t\t: {:.3f}%\t: {:.3f}%\".format(100*np.std(df['maps_won%']), 100*np.std(sts['maps_won%'])))\n",
        "\n",
        "print(\"\\nVariância\")\n",
        "print(\"\t\t\tBase\t\t   Amostra\")\n",
        "print(\"Rounds de pistola\t: {:.3f}%\t: {:.3f}%\".format(100*np.var(df['pistol_won%']), 100*np.var(sts['pistol_won%'])))\n",
        "print(\"Rounds de ataque\t: {:.3f}%\t: {:.3f}%\".format(100*np.var(df['atk_won%']), 100*np.var(sts['atk_won%'])))\n",
        "print(\"Rounds de defesa\t: {:.3f}%\t: {:.3f}%\".format(100*np.var(df['def_won%']), 100*np.var(sts['def_won%'])))\n",
        "print(\"Mapas\t\t\t: {:.3f}%\t: {:.3f}%\".format(100*np.var(df['maps_won%']), 100*np.var(sts['maps_won%'])))"
      ],
      "metadata": {
        "id": "iOL-lBe37MQf"
      },
      "execution_count": null,
      "outputs": []
    },
    {
      "cell_type": "markdown",
      "source": [
        "Como pudemos ver, os dados da nossa amostra possuem valures bastante similares com os valores reais da base, om diferença sempre inferior a 5% em todos os casos.\n",
        "\n",
        "Podemos criar ainda uma tabela de correlação, similar à feita na análise preliminar, para verificar a dependência entre os dados:"
      ],
      "metadata": {
        "id": "JnUd9CWHMKHf"
      }
    },
    {
      "cell_type": "code",
      "source": [
        "corrS = sts.corr()\n",
        "mask = np.zeros_like(corrS)\n",
        "mask[np.triu_indices_from(mask)] = True\n",
        "with sns.axes_style(\"white\"):\n",
        "    f, ax = plt.subplots(figsize=(8, 8))\n",
        "    ax = sns.heatmap(corrS,mask=mask,square=True,linewidths=.8,cmap=\"summer\",annot=True)"
      ],
      "metadata": {
        "id": "qUn5iXNWMm_T"
      },
      "execution_count": null,
      "outputs": []
    },
    {
      "cell_type": "markdown",
      "source": [
        "# **4 -Teste de Hipóteses**\n",
        "\n",
        "Com base nos dados da nossa base, verificaremos as hipóteses que fizemos no inicio deste roteiro."
      ],
      "metadata": {
        "id": "cf7D_UfOMZ1c"
      }
    },
    {
      "cell_type": "markdown",
      "source": [
        "## **Hipótese 1:** Times que jogaram em mais mapas acabarão por ter uma taxa de vitória maior em todos os aspectos."
      ],
      "metadata": {
        "id": "QvB14c_kMdwC"
      }
    },
    {
      "cell_type": "markdown",
      "source": [
        "Observando na tabela de correlação, na primeira coluna (que relaciona com o número de mapas jogados por equipe) vemos que a relação entre a taxa de vitória nos mapas (`maps_won%`), nos rounds de ataque (`atk_won%`), defesa (`def_won%`) e pistola (`pistol_won%`) são valores sempre inferiores a 18%. Dentre elas, o nível de correlação da winrate para rounds de pistola é o menor.\n",
        "\n",
        "Ainda assim, todos os valores de correlação são superiores a 5%. Portanto, para verificar se a hipótese está correta, utilizaremos um modelo de regressão linear, utilizando o test t de student:"
      ],
      "metadata": {
        "id": "Am9HIIOIPMt8"
      }
    },
    {
      "cell_type": "code",
      "source": [
        "## Criando uma matriz nova com base nas antigas\n",
        "modelArray = [df['maps_played'],df['maps_won%'],df['atk_won%'], df['def_won%'], df['pistol_won%']]\n",
        "modelArray[0] = sm.add_constant(modelArray[0])\n",
        "\n",
        "## Criando o modelo de regressão para:"
      ],
      "metadata": {
        "id": "vgOeykv9NkEw"
      },
      "execution_count": 189,
      "outputs": []
    },
    {
      "cell_type": "code",
      "source": [
        "# Mapas:\n",
        "model = sm.OLS(modelArray[1], modelArray[0])\n",
        "results = model.fit()\n",
        "print(results.summary())"
      ],
      "metadata": {
        "id": "SVXnalBtUGlm"
      },
      "execution_count": null,
      "outputs": []
    },
    {
      "cell_type": "markdown",
      "source": [
        "A princípio, temos que o p-valor deste caso (taxa de vitória de mapas com base no número de mapas jogados) para a situação constante (`const`) é igual a 0 e, portanto, podemos aceitar o modelo.\n",
        "\n",
        "No entanto, vemos que a taxa de vitória (`maps_won%`) possui um p-valor inferior a 0.05. Dito isso, não aceitaremos a hipótese de que a quantidade de mapas jogados afeta a taxa de vitória em mapas."
      ],
      "metadata": {
        "id": "v4nzeOCwz34g"
      }
    },
    {
      "cell_type": "code",
      "source": [
        "# Rounds de Ataque\n",
        "model = sm.OLS(modelArray[2], modelArray[0])\n",
        "results = model.fit()\n",
        "print(results.summary())"
      ],
      "metadata": {
        "id": "zdH_OfWnUH6B"
      },
      "execution_count": null,
      "outputs": []
    },
    {
      "cell_type": "markdown",
      "source": [
        "Assim como no caso anterior, também podemos aceitar o modelo - já que o p-valor da hipótese nula foi zero - porém, em razão do p-valor da variável ligada ter sido menor que 5%, constatamos que o impacto dessa variável é negligível."
      ],
      "metadata": {
        "id": "f_nDZ_h_7fpm"
      }
    },
    {
      "cell_type": "code",
      "source": [
        "# Rounds de Defesa\n",
        "model = sm.OLS(modelArray[3], modelArray[0])\n",
        "results = model.fit()\n",
        "print(results.summary())"
      ],
      "metadata": {
        "id": "N6C0TPDLUH8p"
      },
      "execution_count": null,
      "outputs": []
    },
    {
      "cell_type": "markdown",
      "source": [
        "Pelos mesmos motivos, também podemos aceitar esse modelo, porém, como o p-valor do teste é inferior a 5%, a relação entre as variáveis é desprezível."
      ],
      "metadata": {
        "id": "W8qk-5_QEL3-"
      }
    },
    {
      "cell_type": "code",
      "source": [
        "# Rounds de Pistola\n",
        "model = sm.OLS(modelArray[4], modelArray[0])\n",
        "results = model.fit()\n",
        "print(results.summary())"
      ],
      "metadata": {
        "id": "ald6mV9dUH_E"
      },
      "execution_count": null,
      "outputs": []
    },
    {
      "cell_type": "markdown",
      "source": [
        "Nesse caso, nós realmente podemos aceitar nosso modelo de regressão, uma vez que o p-valor do caso constante é 0. No entanto, diferentemente do primeiro caso, para a winrate em rounds de pistola o p-valor possui um tamanho significativo (16.3%).\n",
        "\n",
        "Portanto, vemos que o número de mapas em que certo time jogou realmente impacta a taxa de vitória desse time em rounds de pistola, mesmo que o impacto seja pequeno, visto que o coeficiente obtido é bastante próximo de 0.\n",
        "\n",
        "A hipótese de que o número de mapas afeta todas as taxas de vitória está incorreta, no entanto. Ela afeta apenas a taxa de vitória em rounds de pistola.\n",
        "\n",
        "Uma explicação para isso no contexto do jogo pode ser o fato de que os rounds de pistola são consideravelmente menos complexos que os outros rounds, em razão da noção de que todos os competidores tem acesso a um número limitado de recursos. Além disso, em todos os mapas serão jogados exatamente dois rounds de pistola, de modo que as situações encontradas nesses cenários podem ser mais facilmente entendidas por times com mais partidas."
      ],
      "metadata": {
        "id": "_yY7YwUhMmlD"
      }
    },
    {
      "cell_type": "markdown",
      "source": [
        "## **Hipótese 2:** Times que tem alta taxa de vitória enquanto estão na função de atacantes possuirão taxa de vitória significativamente menor quando estiverem defendendo e vice-versa."
      ],
      "metadata": {
        "id": "tRyRAlnIFK_S"
      }
    },
    {
      "cell_type": "markdown",
      "source": [
        "Assim como na Hipótese anterior, realizaremos uma regressão linear nas variáveis para verificar a sua dependência.\n"
      ],
      "metadata": {
        "id": "v_ocQ47YGt7B"
      }
    },
    {
      "cell_type": "code",
      "source": [
        "## Criando uma matriz nova com base nas antigas PARA CADA CASO\n",
        "model_atk_def = [df['atk_won%'],df['def_won%']]\n",
        "model_def_atk = [df['def_won%'],df['atk_won%']]\n",
        "\n",
        "## Adicionando um valor constante em cada caso\n",
        "model_atk_def[0] = sm.add_constant(model_atk_def[0])\n",
        "model_def_atk[0] = sm.add_constant(model_def_atk[0])"
      ],
      "metadata": {
        "id": "6IF7NezvFT0u"
      },
      "execution_count": 195,
      "outputs": []
    },
    {
      "cell_type": "markdown",
      "source": [
        "Após adicionados os valores constantes, vejamos os resultados obtidos nos modelos:"
      ],
      "metadata": {
        "id": "0HDXJx1PHuPW"
      }
    },
    {
      "cell_type": "code",
      "source": [
        "model = sm.OLS(model_atk_def[1], model_atk_def[0])\n",
        "results = model.fit()\n",
        "print(results.summary())"
      ],
      "metadata": {
        "id": "lblINdMLHdv5"
      },
      "execution_count": null,
      "outputs": []
    },
    {
      "cell_type": "code",
      "source": [
        "model = sm.OLS(model_def_atk[1], model_def_atk[0])\n",
        "results = model.fit()\n",
        "print(results.summary())"
      ],
      "metadata": {
        "id": "uFlVlHs0Hm0G"
      },
      "execution_count": null,
      "outputs": []
    },
    {
      "cell_type": "markdown",
      "source": [
        "Note que, em ambos os casos, pudemos aceitar o modelo de regressão linear em decorrência do p-valor do caso constante ser igual a 0. No entanto, as relações entre as taxas de vitória também resultaram em 0, confirmando que elas são completamente diferentes.\n",
        "\n",
        "Assim, a hipótese 2 também se mostrou equivocada."
      ],
      "metadata": {
        "id": "9TYyPZu7H1uR"
      }
    },
    {
      "cell_type": "markdown",
      "source": [
        "## **Hipótese 3:** Taxas de vitórias altas em rounds de pistola aumentam a chance de vencer o mapa."
      ],
      "metadata": {
        "id": "jv9ttr-XJHXu"
      }
    },
    {
      "cell_type": "markdown",
      "source": [
        "Da mesma maneira que nas hipóteses anteriores, também verificaremos esta hipótese utilizando regressão linear."
      ],
      "metadata": {
        "id": "VOx3q5TKJRso"
      }
    },
    {
      "cell_type": "code",
      "source": [
        "## Criando o modelo e adicionando um caso constante:\n",
        "model_map_pistol = [df['pistol_won%'], df['maps_won%']]\n",
        "model_map_pistol[0] = sm.add_constant(model_map_pistol[0])"
      ],
      "metadata": {
        "id": "h6tFVgUEJQ5h"
      },
      "execution_count": 205,
      "outputs": []
    },
    {
      "cell_type": "code",
      "source": [
        "## Testando o modelo\n",
        "model = sm.OLS(model_map_pistol[1], model_map_pistol[0])\n",
        "results = model.fit()\n",
        "print(results.summary())"
      ],
      "metadata": {
        "id": "M82OB2ZBJpzY"
      },
      "execution_count": null,
      "outputs": []
    },
    {
      "cell_type": "markdown",
      "source": [
        "Assim sendo, notamos que o valor do caso constante possui p-valor maior que 5%. Nesse caso, concluimos que não temos evidência suficiente para rejeitar a hipótese nula."
      ],
      "metadata": {
        "id": "iwnpC1mHKmlf"
      }
    }
  ]
}